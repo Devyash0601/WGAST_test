{
 "cells": [
  {
   "cell_type": "markdown",
   "id": "84904a27",
   "metadata": {},
   "source": [
    "# Tutorial 01: Downloading Satellite Data from Google Earth Engine\n",
    "\n",
    "In this tutorial, we will download and prepare Earth Observation data from three different satellite platforms using Google Earth Engine (GEE) and our custom Python processors:\n",
    "\n",
    "- Sentinel-2 : NDVI, NDWI, NDBI (10–20 m, 5-day revisit).\n",
    "- Landsat 8 : LST, NDVI, NDWI, NDBI (30 m, 16-day).\n",
    "- Terra MODIS : LST (1 km, daily).\n",
    "\n",
    "After retrieving the data, we will:\n",
    "- Filter images based on pixel quality and availability.\n",
    "- Extract only the relevant spectral indices or temperature bands.\n",
    "- Find the spatio-temporal intersection between the three satellite datasets.\n",
    "- Save the matched results for further processing and training of WGAST.\n"
   ]
  },
  {
   "cell_type": "code",
   "execution_count": 7,
   "id": "5741f7a7",
   "metadata": {},
   "outputs": [
    {
     "data": {
      "text/html": [
       "\n",
       "            <style>\n",
       "                .geemap-dark {\n",
       "                    --jp-widgets-color: white;\n",
       "                    --jp-widgets-label-color: white;\n",
       "                    --jp-ui-font-color1: white;\n",
       "                    --jp-layout-color2: #454545;\n",
       "                    background-color: #383838;\n",
       "                }\n",
       "\n",
       "                .geemap-dark .jupyter-button {\n",
       "                    --jp-layout-color3: #383838;\n",
       "                }\n",
       "\n",
       "                .geemap-colab {\n",
       "                    background-color: var(--colab-primary-surface-color, white);\n",
       "                }\n",
       "\n",
       "                .geemap-colab .jupyter-button {\n",
       "                    --jp-layout-color3: var(--colab-primary-surface-color, white);\n",
       "                }\n",
       "            </style>\n",
       "            "
      ],
      "text/plain": [
       "<IPython.core.display.HTML object>"
      ]
     },
     "metadata": {},
     "output_type": "display_data"
    }
   ],
   "source": [
    "import sys\n",
    "import os\n",
    "sys.path.append(os.path.abspath('..'))  # go up to root directory\n",
    "\n",
    "from data_download.Sentinel2Processor import Sentinel2Processor\n",
    "from data_download.Landsat8Processor import Landsat8Processor\n",
    "from data_download.MODISProcessor import MODISProcessor\n"
   ]
  },
  {
   "cell_type": "markdown",
   "id": "724228ac",
   "metadata": {},
   "source": [
    "## Step 01 : Define Region of Interest and Time Range\n",
    "The ROI and the start/end dates below are those used in the WGAST study. For other applications or locations, you should update these values accordingly."
   ]
  },
  {
   "cell_type": "code",
   "execution_count": 6,
   "id": "e13a4cf8",
   "metadata": {},
   "outputs": [
    {
     "data": {
      "text/html": [
       "\n",
       "            <style>\n",
       "                .geemap-dark {\n",
       "                    --jp-widgets-color: white;\n",
       "                    --jp-widgets-label-color: white;\n",
       "                    --jp-ui-font-color1: white;\n",
       "                    --jp-layout-color2: #454545;\n",
       "                    background-color: #383838;\n",
       "                }\n",
       "\n",
       "                .geemap-dark .jupyter-button {\n",
       "                    --jp-layout-color3: #383838;\n",
       "                }\n",
       "\n",
       "                .geemap-colab {\n",
       "                    background-color: var(--colab-primary-surface-color, white);\n",
       "                }\n",
       "\n",
       "                .geemap-colab .jupyter-button {\n",
       "                    --jp-layout-color3: var(--colab-primary-surface-color, white);\n",
       "                }\n",
       "            </style>\n",
       "            "
      ],
      "text/plain": [
       "<IPython.core.display.HTML object>"
      ]
     },
     "metadata": {},
     "output_type": "display_data"
    }
   ],
   "source": [
    "roi = [1.8352731328559473, 47.844911277451844, 1.99343366332974, 47.95130583226066]\n",
    "start_date = '2017-04-09'\n",
    "end_date = '2025-05-30'"
   ]
  },
  {
   "cell_type": "markdown",
   "id": "12454a66",
   "metadata": {},
   "source": [
    "## Step 02: Download and Preprocess Satellite Data from GEE"
   ]
  },
  {
   "cell_type": "code",
   "execution_count": null,
   "id": "f5d8a8eb",
   "metadata": {},
   "outputs": [],
   "source": [
    "# Define pixel availability threshold\n",
    "# Only images with at least this percentage of valid (non-cloudy / non-missing) pixels will be kept\n",
    "pixel_threshold = 80\n",
    "\n",
    "# ------------------------------\n",
    "# ✅ Sentinel-2\n",
    "# ------------------------------\n",
    "\n",
    "# Initialize processor\n",
    "Sentinel_SR_preprocess = Sentinel2Processor(\n",
    "    start_date=start_date,\n",
    "    end_date=end_date,\n",
    "    bounds=roi\n",
    ")\n",
    "\n",
    "# Load image collection\n",
    "Sentinel2_data = Sentinel_SR_preprocess.get_Sentinel2_collection()\n",
    "print('Sentinel-2 images before filtering:', Sentinel_SR_preprocess.countImages(Sentinel2_data))\n",
    "\n",
    "# Filter by pixel availability\n",
    "Sentinel2_data_filtered = Sentinel_SR_preprocess.filter_disponible_images(Sentinel2_data, pixel_threshold)\n",
    "print('Sentinel-2 images after filtering:', Sentinel_SR_preprocess.countImages(Sentinel2_data_filtered))\n",
    "\n",
    "# Extract NDVI, NDBI, NDWI\n",
    "Sentinel2_data_filtered_SR = Sentinel_SR_preprocess.get_index(Sentinel2_data_filtered)\n",
    "\n",
    "# Get timestamps\n",
    "dates_sentinel2 = Sentinel_SR_preprocess.get_times(Sentinel2_data_filtered_SR)\n",
    "\n",
    "\n",
    "# ------------------------------\n",
    "# ✅ Landsat 8 \n",
    "# ------------------------------\n",
    "\n",
    "# Initialize processor\n",
    "Landsat_LST_preprocess = Landsat8Processor(\n",
    "    start_date=start_date,\n",
    "    end_date=end_date,\n",
    "    bounds=roi\n",
    ")\n",
    "\n",
    "# Load image collection\n",
    "L8_data = Landsat_LST_preprocess.get_Landsat_collection()\n",
    "print('Landsat 8 images before filtering:', Landsat_LST_preprocess.countImages(L8_data))\n",
    "\n",
    "# Filter by pixel availability\n",
    "L8_data_filtered = Landsat_LST_preprocess.filter_disponible_images(L8_data, pixel_threshold)\n",
    "print('Landsat 8 images after filtering:', Landsat_LST_preprocess.countImages(L8_data_filtered))\n",
    "\n",
    "# Extract LST, NDVI, NDBI, NDWI\n",
    "L8_LST_index_data_filtered = Landsat_LST_preprocess.get_LST_index(L8_data_filtered)\n",
    "\n",
    "# Get timestamps\n",
    "L8_times_filtered = Landsat_LST_preprocess.get_times(L8_LST_index_data_filtered)\n",
    "\n",
    "\n",
    "# ------------------------------\n",
    "# ✅ MODIS \n",
    "# ------------------------------\n",
    "\n",
    "# Initialize processor\n",
    "MODIS_LST_preprocess = MODISProcessor(\n",
    "    start_date=start_date,\n",
    "    end_date=end_date,\n",
    "    bounds=roi\n",
    ")\n",
    "\n",
    "# Load image collection\n",
    "MODIS_data = MODIS_LST_preprocess.get_MODIS_collection()\n",
    "print('MODIS images before filtering:', MODIS_LST_preprocess.countImages(MODIS_data))\n",
    "\n",
    "# Filter by pixel availability\n",
    "MODIS_data_filtered = MODIS_LST_preprocess.filter_disponible_images(MODIS_data, pixel_threshold)\n",
    "print('MODIS images after filtering:', MODIS_LST_preprocess.countImages(MODIS_data_filtered))\n",
    "\n",
    "# Extract LST band\n",
    "MODIS_LST_data = MODIS_LST_preprocess.get_LST(MODIS_data_filtered)\n",
    "\n",
    "# Get formatted timestamps\n",
    "MODIS_times = MODIS_LST_preprocess.get_formatted_times(MODIS_data_filtered)\n"
   ]
  },
  {
   "cell_type": "markdown",
   "id": "ff08876a",
   "metadata": {},
   "source": [
    "##  Step 03: Find Common Acquisition Dates Across Sentinel-2, Landsat 8, and Terra MODIS"
   ]
  },
  {
   "cell_type": "code",
   "execution_count": null,
   "id": "b4658db0",
   "metadata": {},
   "outputs": [],
   "source": [
    "import numpy as np\n",
    "\n",
    "# Extract date-only strings (YYYY-MM-DD) from each satellite time list\n",
    "dates_modis = np.array([date.split(' ')[0] for date in MODIS_times])\n",
    "dates_landsat = np.array([date.split('T')[0] for date in L8_times_filtered])\n",
    "dates_sentinel = np.array([date.split('T')[0] for date in dates_sentinel2])\n",
    "\n",
    "# Find the intersection across all three satellites\n",
    "common_dates = np.intersect1d(dates_sentinel, dates_landsat)\n",
    "common_dates = np.intersect1d(common_dates, dates_modis)\n",
    "\n",
    "# Save the result for reproducibility\n",
    "np.save('common_dates.npy', common_dates)\n",
    "print(f\"Total common dates found: {len(common_dates)}\")\n",
    "\n",
    "# Filter each dataset to keep only the common dates\n",
    "MODIS_LST_data_common = MODIS_LST_preprocess.filter_by_common_dates(MODIS_LST_data, common_dates)\n",
    "Landsat_LST_data_common = MODIS_LST_preprocess.filter_by_common_dates(L8_LST_index_data_filtered, common_dates)\n",
    "Sentinel2_SR_data_common = MODIS_LST_preprocess.filter_by_common_dates(Sentinel2_data_filtered_SR, common_dates)\n"
   ]
  },
  {
   "cell_type": "markdown",
   "id": "af80b399",
   "metadata": {},
   "source": [
    "## Step 04: Export Common-Date Satellite Images "
   ]
  },
  {
   "cell_type": "code",
   "execution_count": null,
   "id": "7f69e6da",
   "metadata": {},
   "outputs": [],
   "source": [
    "import os\n",
    "import geemap\n",
    "\n",
    "# ----------------- Export MODIS -----------------\n",
    "modis_dir = 'data/raw/MODIS'\n",
    "if not os.path.exists(modis_dir):\n",
    "    os.makedirs(modis_dir)\n",
    "\n",
    "geemap.ee_export_image_collection(\n",
    "    MODIS_LST_data_common,\n",
    "    out_dir=modis_dir,\n",
    "    scale=1000,  # MODIS resolution: 1km\n",
    "    region=MODIS_LST_preprocess.aoi\n",
    ")\n",
    "\n",
    "\n",
    "# ----------------- Export Landsat 8 -----------------\n",
    "landsat_dir = 'data/raw/Landsat8'\n",
    "if not os.path.exists(landsat_dir):\n",
    "    os.makedirs(landsat_dir)\n",
    "\n",
    "geemap.ee_export_image_collection(\n",
    "    Landsat_LST_data_common,\n",
    "    out_dir=landsat_dir,\n",
    "    scale=30,  # Landsat 8resolution: 30m\n",
    "    region=Landsat_LST_preprocess.aoi\n",
    ")\n",
    "\n",
    "\n",
    "\n",
    "# ----------------- Export Sentinel-2 -----------------\n",
    "# 👉 If the size of Sentinel-2 images is small, prefer Option 1 (local export).\n",
    "# 👉 If the size is too large, use Option 2 (Google Drive) to avoid memory or disk issues.\n",
    "\n",
    "# ✅ Option 1: Export to local disk (recommended if image size is small)\n",
    "sentinel_dir = 'data/raw/Sentinel'\n",
    "if not os.path.exists(sentinel_dir):\n",
    "    os.makedirs(sentinel_dir)\n",
    "\n",
    "geemap.ee_export_image_collection(\n",
    "    Sentinel2_SR_data_common,\n",
    "    out_dir=sentinel_dir,\n",
    "    scale=10,  # Sentinel-2 resolution: 10m\n",
    "    region=Sentinel_SR_preprocess.aoi\n",
    ")\n",
    "\n",
    "# ❌ Option 2: Export to Google Drive (uncomment below if local export is too heavy)\n",
    "# geemap.ee_export_image_collection_to_drive(\n",
    "#     Sentinel2_SR_data_common,\n",
    "#     folder='export_sentinel_Indexs',\n",
    "#     scale=10,\n",
    "#     region=Sentinel_SR_preprocess.aoi,\n",
    "#     maxPixels=1e13  # Increase limit for large export\n",
    "# )"
   ]
  }
 ],
 "metadata": {
  "kernelspec": {
   "display_name": "PHD",
   "language": "python",
   "name": "python3"
  },
  "language_info": {
   "codemirror_mode": {
    "name": "ipython",
    "version": 3
   },
   "file_extension": ".py",
   "mimetype": "text/x-python",
   "name": "python",
   "nbconvert_exporter": "python",
   "pygments_lexer": "ipython3",
   "version": "3.12.5"
  }
 },
 "nbformat": 4,
 "nbformat_minor": 5
}
