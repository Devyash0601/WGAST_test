{
 "cells": [
  {
   "cell_type": "markdown",
   "id": "0d3a75f2",
   "metadata": {},
   "source": [
    "## Tutorial 02: Preprocessing and Building Terra MODIS, Landsat8, and Sentinel-2 Triples\n",
    "\n",
    "In this tutorial, we will prepare the data downloaded in Tutorial 01 to create clean and aligned image triples (Terra MODIS, Landsat, Sentinel-2) for spatio-temporal fusion tasks.\n",
    "\n",
    "We will:\n",
    "- Load Terra MODIS, Landsat 8, and Sentinel-2 image collections matched on common dates.\n",
    "- Apply progressive focal mean interpolation to fill missing values due to clouds or technical issues.\n",
    "- Spatially align Terra MODIS images the Sentinel-2 resolution.\n",
    "- Save the resulting triples in a structured format.\n",
    "\n",
    "\n",
    "These processed triples can then be used to train and evaluate models such as WGAST or any custom deep learning architecture for spatio-temporal fusion of land surface temperature tasks."
   ]
  },
  {
   "cell_type": "code",
   "execution_count": 4,
   "id": "bf5bddf6",
   "metadata": {},
   "outputs": [],
   "source": [
    "import sys\n",
    "import os\n",
    "sys.path.append(os.path.abspath('..'))  # go up to root directory\n",
    "\n",
    "from data_preparation.GetTriple import GetTriple\n",
    "from data_preparation.DataProcessor import DataProcessor\n",
    "import numpy as np\n",
    "import time\n",
    "import pandas as pd\n",
    "from datetime import datetime"
   ]
  },
  {
   "cell_type": "markdown",
   "id": "a9315c63",
   "metadata": {},
   "source": [
    "## Step 01 : Load the Data for Triple Construction"
   ]
  },
  {
   "cell_type": "code",
   "execution_count": null,
   "id": "d81f163d",
   "metadata": {},
   "outputs": [],
   "source": [
    "# Initialize the triple preparation helper\n",
    "get_triple = GetTriple()\n",
    "\n",
    "# Load the common dates shared across all three satellite sources\n",
    "common_dates_array = np.load('commun_dates.npy')\n",
    "\n",
    "# Load Sentinel-2 images that match the common dates\n",
    "sentinel2_images = get_triple.load_sentinel(\n",
    "    'data/raw/Sentinel2',\n",
    "    common_dates_array\n",
    ")\n",
    "\n",
    "# Load Landsat 8 images that match the common dates\n",
    "landsat_images = get_triple.load_landsat(\n",
    "    'data/raw/Landsat8',\n",
    "    common_dates_array\n",
    ")\n",
    "\n",
    "# Load MODIS images that match the common dates\n",
    "modis_images = get_triple.load_modis(\n",
    "    'data/raw/MODIS',\n",
    "    common_dates_array\n",
    ")\n"
   ]
  },
  {
   "cell_type": "markdown",
   "id": "820bb4f6",
   "metadata": {},
   "source": [
    "## Step 02 : Spatial Interpolation"
   ]
  },
  {
   "cell_type": "code",
   "execution_count": null,
   "id": "a060940c",
   "metadata": {},
   "outputs": [],
   "source": [
    "# Initialize the data processor\n",
    "data_processor = DataProcessor()\n",
    "\n",
    "# Get target resolution dimensions from Sentinel-2 (highest resolution: 10 m)\n",
    "height, width = sentinel2_images[0][0][0].shape\n",
    "\n",
    "# (Optional) Get original Landsat resolution (30 m)\n",
    "height2, width2 = landsat_images[0][0][0].shape\n",
    "\n",
    "# --- Interpolation for Terra MODIS Images ---\n",
    "# Apply progressive focal mean to fill missing values, then upscale to Sentinel-2 resolution\n",
    "start_time = time.time()\n",
    "modis_preprocessed = data_processor.progressive_focal_mean(modis_images)\n",
    "modis_images_interpolated = data_processor.resize_modis_images(modis_preprocessed, height, width)\n",
    "end_time = time.time()\n",
    "print(f\"Terra MODIS interpolation took {end_time - start_time:.2f} seconds.\")\n",
    "\n",
    "\n",
    "# --- Interpolation for Landsat Images ---\n",
    "# Apply multiband progressive focal mean \n",
    "start_time = time.time()\n",
    "\n",
    "landsat_proprocessed = data_processor.progressive_focal_mean_multiband(\n",
    "    landsat_images, initial_size=5, step_size=5\n",
    ")\n",
    "\n",
    "end_time = time.time()\n",
    "print(f\"Landsat 8 interpolation took {end_time - start_time:.2f} seconds.\")\n",
    "\n",
    "# --- Interpolation for Sentinel-2 Images ---\n",
    "# Sentinel-2 is already high resolution\n",
    "start_time = time.time()\n",
    "\n",
    "sentinel2_proprocessed = data_processor.progressive_focal_mean_multiband(\n",
    "    sentinel2_images, initial_size=15, step_size=15\n",
    ")\n",
    "\n",
    "end_time = time.time()\n",
    "print(f\"Sentinel 2 interpolation took {end_time - start_time:.2f} seconds.\")\n"
   ]
  },
  {
   "cell_type": "markdown",
   "id": "c073bcf1",
   "metadata": {},
   "source": [
    "## Step 03 : Save the Triples"
   ]
  },
  {
   "cell_type": "code",
   "execution_count": null,
   "id": "5f67383c",
   "metadata": {},
   "outputs": [],
   "source": [
    "import os\n",
    "from datetime import datetime\n",
    "\n",
    "# Parse the dates from string to datetime objects\n",
    "dates = [datetime.strptime(date, \"%Y-%m-%d\") for date in common_dates_array]\n",
    "\n",
    "# Define output folder for the triple dataset\n",
    "out_dir = \"data/Triple/MODIS_Landsat8_Sentinel2\"\n",
    "os.makedirs(out_dir, exist_ok=True)  # Create the folder if it doesn't exist\n",
    "\n",
    "# Save the preprocessed Terra MODIS, Landsat 8, and Sentinel-2 images\n",
    "get_triple.save_modis_formatted(modis_images_interpolated, dates, out_dir)\n",
    "get_triple.save_landsat_formatted(landsat_proprocessed, dates, out_dir)\n",
    "get_triple.save_sentinel_formatted(sentinel2_proprocessed, dates, out_dir)\n"
   ]
  }
 ],
 "metadata": {
  "kernelspec": {
   "display_name": "PHD",
   "language": "python",
   "name": "python3"
  },
  "language_info": {
   "codemirror_mode": {
    "name": "ipython",
    "version": 3
   },
   "file_extension": ".py",
   "mimetype": "text/x-python",
   "name": "python",
   "nbconvert_exporter": "python",
   "pygments_lexer": "ipython3",
   "version": "3.12.5"
  }
 },
 "nbformat": 4,
 "nbformat_minor": 5
}
